{
  "nbformat": 4,
  "nbformat_minor": 0,
  "metadata": {
    "colab": {
      "provenance": [],
      "authorship_tag": "ABX9TyPWfGUotGmTfL6PyBs/xvjJ",
      "include_colab_link": true
    },
    "kernelspec": {
      "name": "python3",
      "display_name": "Python 3"
    },
    "language_info": {
      "name": "python"
    }
  },
  "cells": [
    {
      "cell_type": "markdown",
      "metadata": {
        "id": "view-in-github",
        "colab_type": "text"
      },
      "source": [
        "<a href=\"https://colab.research.google.com/github/NachoAranda/Prueba/blob/master/NotasPython.ipynb\" target=\"_parent\"><img src=\"https://colab.research.google.com/assets/colab-badge.svg\" alt=\"Open In Colab\"/></a>"
      ]
    },
    {
      "cell_type": "markdown",
      "source": [
        "Apuntes de Python\n",
        "Se trata de mis notas y ejercicios sobre el cusro py4e"
      ],
      "metadata": {
        "id": "qPrxo0P3qC79"
      }
    },
    {
      "cell_type": "markdown",
      "source": [
        "Primer ejercio dada una cadena de texto imprimirla al reves caracter a caracter usando un buble while\n"
      ],
      "metadata": {
        "id": "31iADBY2qVII"
      }
    },
    {
      "cell_type": "code",
      "execution_count": 1,
      "metadata": {
        "colab": {
          "base_uri": "https://localhost:8080/"
        },
        "id": "55kvgez0pzd3",
        "outputId": "8f92839e-bbf6-4a05-ab25-5d75bf33495f"
      },
      "outputs": [
        {
          "output_type": "stream",
          "name": "stdout",
          "text": [
            "introduce cadenahola\n",
            "a 1\n",
            "l 2\n",
            "o 3\n",
            "h 4\n"
          ]
        }
      ],
      "source": [
        "cadena=input(\"introduce cadena\")\n",
        "i=0\n",
        "t=len(cadena)\n",
        "while i<t:\n",
        "  i+=1\n",
        "  print(cadena[t-i],i)"
      ]
    }
  ]
}